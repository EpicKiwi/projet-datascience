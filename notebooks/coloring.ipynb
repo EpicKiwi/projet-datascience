{
 "cells": [
  {
   "cell_type": "markdown",
   "metadata": {},
   "source": [
    "# Colorisation des images en rose ou en vert"
   ]
  },
  {
   "cell_type": "markdown",
   "metadata": {},
   "source": [
    "Ce pipeline visant à créer un jeu de données va prendre en paramètre une liste d'images *jpg* d'un dossier *input*. Les images vont se voir appliquer des effets de rotation et de mirroir avant de superposer un filtre de couleur dont la teinte est similaire aux exemples donnés.\n",
    "Les images traitées se trouveront dans un fichier *output*, leur nouveaux nom indique les transformations appliquées."
   ]
  },
  {
   "cell_type": "markdown",
   "metadata": {},
   "source": [
    "### Importations"
   ]
  },
  {
   "cell_type": "code",
   "execution_count": 3,
   "metadata": {},
   "outputs": [],
   "source": [
    "from PIL import Image, ImageDraw, ImageEnhance\n",
    "import numpy as np\n",
    "import random\n",
    "import os\n",
    "\n",
    "pink={'colName':\"green\", 'colValue':(250,0,100)}\n",
    "green={'colName':\"pink\", 'colValue':(85,245,81)}\n",
    "\n",
    "def coloringGenerator(fileName):\n",
    "   #image load\n",
    "    img = Image.open('./input/'+fileName)\n",
    "    img = img.convert(\"RGBA\")\n",
    "    display(img)\n",
    "    \n",
    "    rotate(img, fileName, green)\n",
    "    rotate(img, fileName, pink)\n",
    "    mirror(img, fileName, green)\n",
    "    mirror(img, fileName, pink)"
   ]
  },
  {
   "cell_type": "markdown",
   "metadata": {},
   "source": [
    "### Transformation de l'image de base"
   ]
  },
  {
   "cell_type": "code",
   "execution_count": 4,
   "metadata": {},
   "outputs": [],
   "source": [
    "def mirror(img, fileName, color):\n",
    "    ## Mirror the image\n",
    "    img = img.transpose(method=Image.FLIP_LEFT_RIGHT)\n",
    "    \n",
    "    img = Coloring(img, random.randrange(30, 100), color['colValue'])\n",
    "    \n",
    "    splitName = fileName.split('.')\n",
    "    img.save('./output/'+splitName[0]+'_mirror_'+color['colName']+'.'+splitName[1])\n",
    "    \n",
    "\n",
    "def rotate(img, fileName, color):\n",
    "    ## Rotate image of 90° and resize to 720 * 576px\n",
    "    img = img.transpose(method=Image.TRANSPOSE)\n",
    "    img = img.resize((720, 576), Image.LANCZOS)\n",
    "    \n",
    "    print(color)\n",
    "    img = Coloring(img, random.randrange(30, 100), color['colValue'])\n",
    "    \n",
    "    splitName = fileName.split('.')\n",
    "    img.save('./output/'+splitName[0]+'_rotated_'+color['colName']+'.'+splitName[1])\n",
    "    display(img)"
   ]
  },
  {
   "cell_type": "markdown",
   "metadata": {},
   "source": [
    "### Application du filtre de couleur"
   ]
  },
  {
   "cell_type": "code",
   "execution_count": 5,
   "metadata": {},
   "outputs": [],
   "source": [
    "# Apply pink filter\n",
    "def Coloring(img, numb_random, color):\n",
    "    #pink filter creation\n",
    "    overlay = Image.new(\"RGBA\", img.size, color= (*color ,0))\n",
    "    colorFilter = ImageDraw.Draw(overlay)\n",
    "    colorFilter.rectangle([(0,0), (img.width, numb_random-1)], fill=(*color ,150))\n",
    "\n",
    "    # image filter fusion\n",
    "    img = Image.alpha_composite(img, overlay)\n",
    "    img = img.convert(\"RGB\")\n",
    "\n",
    "    # local brightness enhancement\n",
    "    ic = img.crop((0, 0, img.width, numb_random))#left, top, right, bottom\n",
    "    brightnessFilter = ImageEnhance.Brightness(ic)\n",
    "    ic = brightnessFilter.enhance(1.8)\n",
    "    img.paste(ic, (0, 0, img.width, numb_random))\n",
    "    \n",
    "    return img"
   ]
  },
  {
   "cell_type": "markdown",
   "metadata": {},
   "source": [
    "### Parcourir le dossier des fichiers de base"
   ]
  },
  {
   "cell_type": "code",
   "execution_count": 6,
   "metadata": {},
   "outputs": [
    {
     "ename": "FileNotFoundError",
     "evalue": "[Errno 2] No such file or directory: './input'",
     "output_type": "error",
     "traceback": [
      "\u001b[0;31m---------------------------------------------------------------------------\u001b[0m",
      "\u001b[0;31mFileNotFoundError\u001b[0m                         Traceback (most recent call last)",
      "\u001b[0;32m<ipython-input-6-1b52fb0e7f32>\u001b[0m in \u001b[0;36m<module>\u001b[0;34m\u001b[0m\n\u001b[0;32m----> 1\u001b[0;31m \u001b[0;32mfor\u001b[0m \u001b[0mfile\u001b[0m \u001b[0;32min\u001b[0m \u001b[0mos\u001b[0m\u001b[0;34m.\u001b[0m\u001b[0mlistdir\u001b[0m\u001b[0;34m(\u001b[0m\u001b[0;34m'./input'\u001b[0m\u001b[0;34m)\u001b[0m\u001b[0;34m:\u001b[0m\u001b[0;34m\u001b[0m\u001b[0;34m\u001b[0m\u001b[0m\n\u001b[0m\u001b[1;32m      2\u001b[0m     \u001b[0;32mif\u001b[0m\u001b[0;34m(\u001b[0m\u001b[0mfile\u001b[0m\u001b[0;34m.\u001b[0m\u001b[0m__contains__\u001b[0m\u001b[0;34m(\u001b[0m\u001b[0;34m'.jpg'\u001b[0m\u001b[0;34m)\u001b[0m\u001b[0;34m)\u001b[0m\u001b[0;34m:\u001b[0m\u001b[0;34m\u001b[0m\u001b[0;34m\u001b[0m\u001b[0m\n\u001b[1;32m      3\u001b[0m         \u001b[0;31m#print(file.split('.')[0])\u001b[0m\u001b[0;34m\u001b[0m\u001b[0;34m\u001b[0m\u001b[0;34m\u001b[0m\u001b[0m\n\u001b[1;32m      4\u001b[0m         \u001b[0mcoloringGenerator\u001b[0m\u001b[0;34m(\u001b[0m\u001b[0mfile\u001b[0m\u001b[0;34m)\u001b[0m\u001b[0;34m\u001b[0m\u001b[0;34m\u001b[0m\u001b[0m\n",
      "\u001b[0;31mFileNotFoundError\u001b[0m: [Errno 2] No such file or directory: './input'"
     ]
    }
   ],
   "source": [
    "for file in os.listdir('./input'):    \n",
    "    if(file.__contains__('.jpg')):\n",
    "        #print(file.split('.')[0])\n",
    "        coloringGenerator(file)"
   ]
  },
  {
   "cell_type": "code",
   "execution_count": null,
   "metadata": {},
   "outputs": [],
   "source": []
  }
 ],
 "metadata": {
  "kernelspec": {
   "display_name": "Python 3",
   "language": "python",
   "name": "python3"
  },
  "language_info": {
   "codemirror_mode": {
    "name": "ipython",
    "version": 3
   },
   "file_extension": ".py",
   "mimetype": "text/x-python",
   "name": "python",
   "nbconvert_exporter": "python",
   "pygments_lexer": "ipython3",
   "version": "3.7.5"
  },
  "widgets": {
   "application/vnd.jupyter.widget-state+json": {
    "state": {},
    "version_major": 2,
    "version_minor": 0
   }
  }
 },
 "nbformat": 4,
 "nbformat_minor": 4
}
