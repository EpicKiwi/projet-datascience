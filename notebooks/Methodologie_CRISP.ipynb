{
 "cells": [
  {
   "cell_type": "markdown",
   "metadata": {},
   "source": [
    "# Projet DataScience - Entreprise TouNum\n",
    "\n",
    "## Méthodologie CRISP :\n",
    "\n",
    "|Auteurs|Centre|Modification|Date|\n",
    "|---|---|---|---|\n",
    "|Alexis Billequin - Clément Chabrier - Etienne Duverney - Adrien Kegler - Nicolas Mazard - Baptiste Saclier - Adrien Thevenet|Lyon|première version|14/01/2020|"
   ]
  },
  {
   "cell_type": "markdown",
   "metadata": {},
   "source": [
    "### Business Understanding :\n",
    "\n",
    "#### Demande métier :\n",
    "\n",
    "Nous travaillons pour TouNum, une entreprise de numérisation des cassettes vidéos.Le but de ce projet est d'améliorer les images de cassette vidéo VHS pour qu'elles soient analysables.\n",
    "\n",
    "TouNum nous demande donc d'en un premier temps de travailler sur la restauration d'images [`PAL (Phase Alternating Line)`](https://www.wikiwand.com/fr/Phase_Alternating_Line) issu de cassettes VHS grâce au machine learning; Il faudra:\n",
    "- Détecter/réduire/faire disparaitre les défauts\n",
    "- Rendre le processus automatique\n",
    "- Pouvoir s'adapter à tous les types de données d'images\n",
    "- Rendre la solution lisible sous la forme de notebooks [`Jupyter`](https://jupyter.org/)\n",
    "- Exporter le modèle de machine learning via [`Pickle`](https://docs.python.org/fr/3.7/library/pickle.html)\n",
    "- En bonus:\n",
    "    - Présenter des pistes de réflexions sur l'amélioration du modèle pour le traitement de vidéos"
   ]
  },
  {
   "cell_type": "markdown",
   "metadata": {},
   "source": [
    "#### Evaluation du résultat :\n",
    "\n",
    "Pour évaluer l'efficacité de notre solution, nous nous baserons sur une [`évaluation de la qualité d'image (EQI)`](https://www.researchgate.net/publication/322643565_Etude_comparative_des_methodes_d'evaluation_de_la_qualite_d'image) Il existe plusieur métrique d'EQI:\n",
    "- L'erreur moyenne quadratique ou Mean Square Error (MSE)\n",
    "- Le rapport crête signal sur bruit ou Peak Signal Noise Ratio (PSNR)\n",
    "- Le rapport signal sur bruit ou Signal Noise Ratio (SNR)\n",
    "- L'index de Similarité Structurelle (SSIM)\n",
    "- "
   ]
  },
  {
   "cell_type": "code",
   "execution_count": null,
   "metadata": {},
   "outputs": [],
   "source": []
  }
 ],
 "metadata": {
  "kernelspec": {
   "display_name": "Python 3",
   "language": "python",
   "name": "python3"
  },
  "language_info": {
   "codemirror_mode": {
    "name": "ipython",
    "version": 3
   },
   "file_extension": ".py",
   "mimetype": "text/x-python",
   "name": "python",
   "nbconvert_exporter": "python",
   "pygments_lexer": "ipython3",
   "version": "3.7.4"
  }
 },
 "nbformat": 4,
 "nbformat_minor": 4
}
